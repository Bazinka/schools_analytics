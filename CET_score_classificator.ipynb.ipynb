{
 "cells": [
  {
   "cell_type": "markdown",
   "metadata": {},
   "source": [
    "# Dutch primary school CET score\n",
    " \n",
    "## Overview\n",
    "\n",
    "In the Netherland  children go to primary school on the next day after they turn 4 years old. And before that parents should choose the best fitting school for their baby. I think that the best school for my baby should have a lot of charactheristic and also has an ability to give my baby a good knowlegde, so he could get a good score in the final exam to continue education in secondary school. I found that Dutch Ministry of education, culture and science open some of their data, so I collected them into dataset from https://duo.nl/open_onderwijsdata/databestanden/ and now I want to analyse what I have there. Ideally I also want to find is it possible to calcuate the quality of the education which school can give to students based on this data or we need some extra data to define this?\n",
    "One of the main factor that could define the quality of education is final exams score, I will analyse it first. First of all I want to know what does CET score depend on and how it defines by other factors. To solve this problem first I read the dataset from the file Score.csv and get data from the most last year we have(2018), will clean it, will make new feature which would means the level of the average CET score for each school. As a result I will try to build classifier for those CET score levels to be able predict \"how good\" the exam result will be depending on other parameters we have. I also will use a few algorithms to build a clafssifier and see which geaves us better results."
   ]
  },
  {
   "cell_type": "markdown",
   "metadata": {},
   "source": [
    "## Data preparation"
   ]
  },
  {
   "cell_type": "code",
   "execution_count": 355,
   "metadata": {},
   "outputs": [
    {
     "name": "stdout",
     "output_type": "stream",
     "text": [
      "(6286, 37)\n",
      "Index(['SCHOOL_ID', 'DATUM', 'INSTELLINGSNAAM_VESTIGING', 'POSTCODE_VESTIGING',\n",
      "       'PLAATSNAAM', 'GEMEENTENUMMER', 'GEMEENTENAAM', 'PROVINCIE', 'SOORT_PO',\n",
      "       'DENOMINATIE_VESTIGING', 'BEVOEGD_GEZAG_NUMMER',\n",
      "       'AANTAL_LEERLINGEN_EXAMEN', 'EXAMEN', 'EXAMEN_AANTAL', 'EXAMEN_GEM',\n",
      "       'REKENEN_LAGER1F', 'REKENEN_1F', 'REKENEN_1S', 'REKENEN_2F',\n",
      "       'LV_LAGER1F', 'LV_1F', 'LV_2F', 'TV_LAGER1F', 'TV_1F', 'TV_2F', 'VSO',\n",
      "       'PRO', 'VMBO', 'VMBO_HAVO', 'HAVO', 'HAVO_VWO', 'VWO',\n",
      "       'ADVIES_NIET_MOGELIJK', 'TOTAAL_ADVIES', 'LJ8', 'ZIT', 'ZITPERC'],\n",
      "      dtype='object')\n"
     ]
    },
    {
     "data": {
      "text/html": [
       "<div>\n",
       "<style scoped>\n",
       "    .dataframe tbody tr th:only-of-type {\n",
       "        vertical-align: middle;\n",
       "    }\n",
       "\n",
       "    .dataframe tbody tr th {\n",
       "        vertical-align: top;\n",
       "    }\n",
       "\n",
       "    .dataframe thead th {\n",
       "        text-align: right;\n",
       "    }\n",
       "</style>\n",
       "<table border=\"1\" class=\"dataframe\">\n",
       "  <thead>\n",
       "    <tr style=\"text-align: right;\">\n",
       "      <th></th>\n",
       "      <th>SCHOOL_ID</th>\n",
       "      <th>DATUM</th>\n",
       "      <th>INSTELLINGSNAAM_VESTIGING</th>\n",
       "      <th>POSTCODE_VESTIGING</th>\n",
       "      <th>PLAATSNAAM</th>\n",
       "      <th>GEMEENTENUMMER</th>\n",
       "      <th>GEMEENTENAAM</th>\n",
       "      <th>PROVINCIE</th>\n",
       "      <th>SOORT_PO</th>\n",
       "      <th>DENOMINATIE_VESTIGING</th>\n",
       "      <th>...</th>\n",
       "      <th>VMBO</th>\n",
       "      <th>VMBO_HAVO</th>\n",
       "      <th>HAVO</th>\n",
       "      <th>HAVO_VWO</th>\n",
       "      <th>VWO</th>\n",
       "      <th>ADVIES_NIET_MOGELIJK</th>\n",
       "      <th>TOTAAL_ADVIES</th>\n",
       "      <th>LJ8</th>\n",
       "      <th>ZIT</th>\n",
       "      <th>ZITPERC</th>\n",
       "    </tr>\n",
       "  </thead>\n",
       "  <tbody>\n",
       "    <tr>\n",
       "      <th>18739</th>\n",
       "      <td>000AP_2018</td>\n",
       "      <td>2018</td>\n",
       "      <td>De Schanskorf</td>\n",
       "      <td>2715BT</td>\n",
       "      <td>ZOETERMEER</td>\n",
       "      <td>637</td>\n",
       "      <td>Zoetermeer</td>\n",
       "      <td>Zuid-Holland</td>\n",
       "      <td>Bo</td>\n",
       "      <td>Gereformeerd vrijgemaakt</td>\n",
       "      <td>...</td>\n",
       "      <td>0</td>\n",
       "      <td>2</td>\n",
       "      <td>4</td>\n",
       "      <td>0</td>\n",
       "      <td>3</td>\n",
       "      <td>0</td>\n",
       "      <td>11</td>\n",
       "      <td>11</td>\n",
       "      <td>1</td>\n",
       "      <td>9.090909</td>\n",
       "    </tr>\n",
       "    <tr>\n",
       "      <th>18740</th>\n",
       "      <td>000AR_2018</td>\n",
       "      <td>2018</td>\n",
       "      <td>BS \"De Maasparel\"</td>\n",
       "      <td>6107AW</td>\n",
       "      <td>STEVENSWEERT</td>\n",
       "      <td>1641</td>\n",
       "      <td>Maasgouw</td>\n",
       "      <td>Limburg</td>\n",
       "      <td>Bo</td>\n",
       "      <td>Rooms-Katholiek</td>\n",
       "      <td>...</td>\n",
       "      <td>1</td>\n",
       "      <td>0</td>\n",
       "      <td>4</td>\n",
       "      <td>0</td>\n",
       "      <td>9</td>\n",
       "      <td>0</td>\n",
       "      <td>17</td>\n",
       "      <td>17</td>\n",
       "      <td>1</td>\n",
       "      <td>5.882353</td>\n",
       "    </tr>\n",
       "    <tr>\n",
       "      <th>18741</th>\n",
       "      <td>000AV_2018</td>\n",
       "      <td>2018</td>\n",
       "      <td>De Morgenster</td>\n",
       "      <td>3201CN</td>\n",
       "      <td>SPIJKENISSE</td>\n",
       "      <td>1930</td>\n",
       "      <td>Nissewaard</td>\n",
       "      <td>Zuid-Holland</td>\n",
       "      <td>Bo</td>\n",
       "      <td>Gereformeerd vrijgemaakt</td>\n",
       "      <td>...</td>\n",
       "      <td>0</td>\n",
       "      <td>3</td>\n",
       "      <td>1</td>\n",
       "      <td>3</td>\n",
       "      <td>2</td>\n",
       "      <td>0</td>\n",
       "      <td>12</td>\n",
       "      <td>12</td>\n",
       "      <td>1</td>\n",
       "      <td>8.333333</td>\n",
       "    </tr>\n",
       "    <tr>\n",
       "      <th>18742</th>\n",
       "      <td>000AZ_2018</td>\n",
       "      <td>2018</td>\n",
       "      <td>De Stapsteen</td>\n",
       "      <td>2971AR</td>\n",
       "      <td>BLESKENSGRAAF CA</td>\n",
       "      <td>1927</td>\n",
       "      <td>Molenwaard</td>\n",
       "      <td>Zuid-Holland</td>\n",
       "      <td>Bo</td>\n",
       "      <td>Openbaar</td>\n",
       "      <td>...</td>\n",
       "      <td>1</td>\n",
       "      <td>5</td>\n",
       "      <td>3</td>\n",
       "      <td>0</td>\n",
       "      <td>3</td>\n",
       "      <td>0</td>\n",
       "      <td>15</td>\n",
       "      <td>14</td>\n",
       "      <td>2</td>\n",
       "      <td>14.285714</td>\n",
       "    </tr>\n",
       "    <tr>\n",
       "      <th>18743</th>\n",
       "      <td>000BB_2018</td>\n",
       "      <td>2018</td>\n",
       "      <td>Obs Letterwies</td>\n",
       "      <td>9944AR</td>\n",
       "      <td>NIEUWOLDA</td>\n",
       "      <td>1895</td>\n",
       "      <td>Oldambt</td>\n",
       "      <td>Groningen</td>\n",
       "      <td>Bo</td>\n",
       "      <td>Openbaar</td>\n",
       "      <td>...</td>\n",
       "      <td>5</td>\n",
       "      <td>2</td>\n",
       "      <td>4</td>\n",
       "      <td>1</td>\n",
       "      <td>2</td>\n",
       "      <td>0</td>\n",
       "      <td>21</td>\n",
       "      <td>11</td>\n",
       "      <td>1</td>\n",
       "      <td>9.090909</td>\n",
       "    </tr>\n",
       "  </tbody>\n",
       "</table>\n",
       "<p>5 rows × 37 columns</p>\n",
       "</div>"
      ],
      "text/plain": [
       "        SCHOOL_ID  DATUM INSTELLINGSNAAM_VESTIGING POSTCODE_VESTIGING  \\\n",
       "18739  000AP_2018   2018             De Schanskorf             2715BT   \n",
       "18740  000AR_2018   2018         BS \"De Maasparel\"             6107AW   \n",
       "18741  000AV_2018   2018             De Morgenster             3201CN   \n",
       "18742  000AZ_2018   2018              De Stapsteen             2971AR   \n",
       "18743  000BB_2018   2018            Obs Letterwies             9944AR   \n",
       "\n",
       "             PLAATSNAAM  GEMEENTENUMMER GEMEENTENAAM     PROVINCIE SOORT_PO  \\\n",
       "18739        ZOETERMEER             637   Zoetermeer  Zuid-Holland       Bo   \n",
       "18740      STEVENSWEERT            1641     Maasgouw       Limburg       Bo   \n",
       "18741       SPIJKENISSE            1930   Nissewaard  Zuid-Holland       Bo   \n",
       "18742  BLESKENSGRAAF CA            1927   Molenwaard  Zuid-Holland       Bo   \n",
       "18743         NIEUWOLDA            1895      Oldambt     Groningen       Bo   \n",
       "\n",
       "          DENOMINATIE_VESTIGING  ...  VMBO  VMBO_HAVO HAVO  HAVO_VWO  VWO  \\\n",
       "18739  Gereformeerd vrijgemaakt  ...     0          2    4         0    3   \n",
       "18740           Rooms-Katholiek  ...     1          0    4         0    9   \n",
       "18741  Gereformeerd vrijgemaakt  ...     0          3    1         3    2   \n",
       "18742                  Openbaar  ...     1          5    3         0    3   \n",
       "18743                  Openbaar  ...     5          2    4         1    2   \n",
       "\n",
       "       ADVIES_NIET_MOGELIJK  TOTAAL_ADVIES  LJ8  ZIT    ZITPERC  \n",
       "18739                     0             11   11    1   9.090909  \n",
       "18740                     0             17   17    1   5.882353  \n",
       "18741                     0             12   12    1   8.333333  \n",
       "18742                     0             15   14    2  14.285714  \n",
       "18743                     0             21   11    1   9.090909  \n",
       "\n",
       "[5 rows x 37 columns]"
      ]
     },
     "execution_count": 355,
     "metadata": {},
     "output_type": "execute_result"
    }
   ],
   "source": [
    "import pandas as pd \n",
    "import matplotlib.pyplot as plt\n",
    "import seaborn as sns\n",
    "import numpy as np\n",
    "\n",
    "data = pd.read_csv(\"Score.csv\", error_bad_lines=False, sep=',', encoding = \"ISO-8859-1\") \n",
    "data = data[data['DATUM'] == 2018]\n",
    "print(data.shape)\n",
    "print(data.columns)\n",
    "data.head() "
   ]
  },
  {
   "cell_type": "markdown",
   "metadata": {},
   "source": [
    "I want to create new variable which would means how well students of particular school take the exam. We have a few exams chosen by schools, let's take a look at it:"
   ]
  },
  {
   "cell_type": "code",
   "execution_count": 356,
   "metadata": {},
   "outputs": [
    {
     "data": {
      "text/plain": [
       "CET       3527\n",
       "IEP       1790\n",
       "ROUTE8     833\n",
       "DIA         83\n",
       "AMN         53\n",
       "Name: EXAMEN, dtype: int64"
      ]
     },
     "execution_count": 356,
     "metadata": {},
     "output_type": "execute_result"
    }
   ],
   "source": [
    "data['EXAMEN'].value_counts()"
   ]
  },
  {
   "cell_type": "markdown",
   "metadata": {},
   "source": [
    "I will create new variable 'SCORE_TYPE' with values 'low' and 'high' depends on score and on the chosen exam, because average score is different for different exams:"
   ]
  },
  {
   "cell_type": "code",
   "execution_count": 357,
   "metadata": {},
   "outputs": [],
   "source": [
    "def get_type_score(row): \n",
    "    result = \"Low\"\n",
    "    exam_data = data[data['EXAMEN'] == row.EXAMEN]\n",
    "    if(row.EXAMEN_GEM < exam_data['EXAMEN_GEM'].median()):\n",
    "        result = \"Low\"\n",
    "    else:\n",
    "        result = \"High\"\n",
    "    return result\n",
    "\n",
    "data['SCORE_LEVEL'] =  data.apply(lambda row: get_type_score(row), axis = 1)"
   ]
  },
  {
   "cell_type": "code",
   "execution_count": 358,
   "metadata": {},
   "outputs": [
    {
     "name": "stdout",
     "output_type": "stream",
     "text": [
      "High    3146\n",
      "Low     3140\n",
      "Name: SCORE_LEVEL, dtype: int64\n"
     ]
    }
   ],
   "source": [
    "print(data['SCORE_LEVEL'].value_counts())"
   ]
  },
  {
   "cell_type": "markdown",
   "metadata": {},
   "source": [
    "Next I want to remove unnecessary columns because some of them is higly correlated (like few columns which describe an address of school, we can leave only one of them) and some of them we just don't need (like 'SCHOOL_ID' or 'BEVOEGD_GEZAG_NUMMER') or they mean same thing as outcome (like score variable 'EXAMEN_GEM'):"
   ]
  },
  {
   "cell_type": "code",
   "execution_count": 359,
   "metadata": {},
   "outputs": [
    {
     "name": "stdout",
     "output_type": "stream",
     "text": [
      "(6286, 38)\n",
      "(6286, 28)\n",
      "Index(['GEMEENTENUMMER', 'SOORT_PO', 'DENOMINATIE_VESTIGING',\n",
      "       'AANTAL_LEERLINGEN_EXAMEN', 'EXAMEN', 'EXAMEN_AANTAL',\n",
      "       'REKENEN_LAGER1F', 'REKENEN_1F', 'REKENEN_1S', 'REKENEN_2F',\n",
      "       'LV_LAGER1F', 'LV_1F', 'LV_2F', 'TV_LAGER1F', 'TV_1F', 'TV_2F', 'VSO',\n",
      "       'PRO', 'VMBO', 'VMBO_HAVO', 'HAVO', 'HAVO_VWO', 'VWO',\n",
      "       'ADVIES_NIET_MOGELIJK', 'TOTAAL_ADVIES', 'LJ8', 'ZIT', 'SCORE_LEVEL'],\n",
      "      dtype='object')\n"
     ]
    },
    {
     "data": {
      "text/html": [
       "<div>\n",
       "<style scoped>\n",
       "    .dataframe tbody tr th:only-of-type {\n",
       "        vertical-align: middle;\n",
       "    }\n",
       "\n",
       "    .dataframe tbody tr th {\n",
       "        vertical-align: top;\n",
       "    }\n",
       "\n",
       "    .dataframe thead th {\n",
       "        text-align: right;\n",
       "    }\n",
       "</style>\n",
       "<table border=\"1\" class=\"dataframe\">\n",
       "  <thead>\n",
       "    <tr style=\"text-align: right;\">\n",
       "      <th></th>\n",
       "      <th>GEMEENTENUMMER</th>\n",
       "      <th>SOORT_PO</th>\n",
       "      <th>DENOMINATIE_VESTIGING</th>\n",
       "      <th>AANTAL_LEERLINGEN_EXAMEN</th>\n",
       "      <th>EXAMEN</th>\n",
       "      <th>EXAMEN_AANTAL</th>\n",
       "      <th>REKENEN_LAGER1F</th>\n",
       "      <th>REKENEN_1F</th>\n",
       "      <th>REKENEN_1S</th>\n",
       "      <th>REKENEN_2F</th>\n",
       "      <th>...</th>\n",
       "      <th>VMBO</th>\n",
       "      <th>VMBO_HAVO</th>\n",
       "      <th>HAVO</th>\n",
       "      <th>HAVO_VWO</th>\n",
       "      <th>VWO</th>\n",
       "      <th>ADVIES_NIET_MOGELIJK</th>\n",
       "      <th>TOTAAL_ADVIES</th>\n",
       "      <th>LJ8</th>\n",
       "      <th>ZIT</th>\n",
       "      <th>SCORE_LEVEL</th>\n",
       "    </tr>\n",
       "  </thead>\n",
       "  <tbody>\n",
       "    <tr>\n",
       "      <th>18739</th>\n",
       "      <td>637</td>\n",
       "      <td>Bo</td>\n",
       "      <td>Gereformeerd vrijgemaakt</td>\n",
       "      <td>11</td>\n",
       "      <td>CET</td>\n",
       "      <td>11</td>\n",
       "      <td>1</td>\n",
       "      <td>5</td>\n",
       "      <td>5</td>\n",
       "      <td>0</td>\n",
       "      <td>...</td>\n",
       "      <td>0</td>\n",
       "      <td>2</td>\n",
       "      <td>4</td>\n",
       "      <td>0</td>\n",
       "      <td>3</td>\n",
       "      <td>0</td>\n",
       "      <td>11</td>\n",
       "      <td>11</td>\n",
       "      <td>1</td>\n",
       "      <td>High</td>\n",
       "    </tr>\n",
       "    <tr>\n",
       "      <th>18740</th>\n",
       "      <td>1641</td>\n",
       "      <td>Bo</td>\n",
       "      <td>Rooms-Katholiek</td>\n",
       "      <td>17</td>\n",
       "      <td>CET</td>\n",
       "      <td>17</td>\n",
       "      <td>0</td>\n",
       "      <td>5</td>\n",
       "      <td>12</td>\n",
       "      <td>0</td>\n",
       "      <td>...</td>\n",
       "      <td>1</td>\n",
       "      <td>0</td>\n",
       "      <td>4</td>\n",
       "      <td>0</td>\n",
       "      <td>9</td>\n",
       "      <td>0</td>\n",
       "      <td>17</td>\n",
       "      <td>17</td>\n",
       "      <td>1</td>\n",
       "      <td>High</td>\n",
       "    </tr>\n",
       "    <tr>\n",
       "      <th>18741</th>\n",
       "      <td>1930</td>\n",
       "      <td>Bo</td>\n",
       "      <td>Gereformeerd vrijgemaakt</td>\n",
       "      <td>11</td>\n",
       "      <td>CET</td>\n",
       "      <td>11</td>\n",
       "      <td>1</td>\n",
       "      <td>5</td>\n",
       "      <td>5</td>\n",
       "      <td>0</td>\n",
       "      <td>...</td>\n",
       "      <td>0</td>\n",
       "      <td>3</td>\n",
       "      <td>1</td>\n",
       "      <td>3</td>\n",
       "      <td>2</td>\n",
       "      <td>0</td>\n",
       "      <td>12</td>\n",
       "      <td>12</td>\n",
       "      <td>1</td>\n",
       "      <td>Low</td>\n",
       "    </tr>\n",
       "    <tr>\n",
       "      <th>18742</th>\n",
       "      <td>1927</td>\n",
       "      <td>Bo</td>\n",
       "      <td>Openbaar</td>\n",
       "      <td>12</td>\n",
       "      <td>IEP</td>\n",
       "      <td>12</td>\n",
       "      <td>2</td>\n",
       "      <td>3</td>\n",
       "      <td>7</td>\n",
       "      <td>0</td>\n",
       "      <td>...</td>\n",
       "      <td>1</td>\n",
       "      <td>5</td>\n",
       "      <td>3</td>\n",
       "      <td>0</td>\n",
       "      <td>3</td>\n",
       "      <td>0</td>\n",
       "      <td>15</td>\n",
       "      <td>14</td>\n",
       "      <td>2</td>\n",
       "      <td>High</td>\n",
       "    </tr>\n",
       "    <tr>\n",
       "      <th>18743</th>\n",
       "      <td>1895</td>\n",
       "      <td>Bo</td>\n",
       "      <td>Openbaar</td>\n",
       "      <td>21</td>\n",
       "      <td>CET</td>\n",
       "      <td>21</td>\n",
       "      <td>1</td>\n",
       "      <td>14</td>\n",
       "      <td>6</td>\n",
       "      <td>0</td>\n",
       "      <td>...</td>\n",
       "      <td>5</td>\n",
       "      <td>2</td>\n",
       "      <td>4</td>\n",
       "      <td>1</td>\n",
       "      <td>2</td>\n",
       "      <td>0</td>\n",
       "      <td>21</td>\n",
       "      <td>11</td>\n",
       "      <td>1</td>\n",
       "      <td>Low</td>\n",
       "    </tr>\n",
       "  </tbody>\n",
       "</table>\n",
       "<p>5 rows × 28 columns</p>\n",
       "</div>"
      ],
      "text/plain": [
       "       GEMEENTENUMMER SOORT_PO     DENOMINATIE_VESTIGING  \\\n",
       "18739             637       Bo  Gereformeerd vrijgemaakt   \n",
       "18740            1641       Bo           Rooms-Katholiek   \n",
       "18741            1930       Bo  Gereformeerd vrijgemaakt   \n",
       "18742            1927       Bo                  Openbaar   \n",
       "18743            1895       Bo                  Openbaar   \n",
       "\n",
       "       AANTAL_LEERLINGEN_EXAMEN EXAMEN  EXAMEN_AANTAL  REKENEN_LAGER1F  \\\n",
       "18739                        11    CET             11                1   \n",
       "18740                        17    CET             17                0   \n",
       "18741                        11    CET             11                1   \n",
       "18742                        12    IEP             12                2   \n",
       "18743                        21    CET             21                1   \n",
       "\n",
       "       REKENEN_1F  REKENEN_1S  REKENEN_2F  ...  VMBO  VMBO_HAVO  HAVO  \\\n",
       "18739           5           5           0  ...     0          2     4   \n",
       "18740           5          12           0  ...     1          0     4   \n",
       "18741           5           5           0  ...     0          3     1   \n",
       "18742           3           7           0  ...     1          5     3   \n",
       "18743          14           6           0  ...     5          2     4   \n",
       "\n",
       "       HAVO_VWO  VWO  ADVIES_NIET_MOGELIJK  TOTAAL_ADVIES  LJ8  ZIT  \\\n",
       "18739         0    3                     0             11   11    1   \n",
       "18740         0    9                     0             17   17    1   \n",
       "18741         3    2                     0             12   12    1   \n",
       "18742         0    3                     0             15   14    2   \n",
       "18743         1    2                     0             21   11    1   \n",
       "\n",
       "       SCORE_LEVEL  \n",
       "18739         High  \n",
       "18740         High  \n",
       "18741          Low  \n",
       "18742         High  \n",
       "18743          Low  \n",
       "\n",
       "[5 rows x 28 columns]"
      ]
     },
     "execution_count": 359,
     "metadata": {},
     "output_type": "execute_result"
    }
   ],
   "source": [
    "columns = ['EXAMEN_GEM', 'SCHOOL_ID', 'DATUM', 'INSTELLINGSNAAM_VESTIGING', 'POSTCODE_VESTIGING', 'PLAATSNAAM', 'GEMEENTENAAM', \n",
    "           'PROVINCIE', 'BEVOEGD_GEZAG_NUMMER', 'ZITPERC']\n",
    "print(data.shape)\n",
    "data.drop(columns, 1, inplace = True)\n",
    "print(data.shape)\n",
    "print(data.columns)\n",
    "data.head()"
   ]
  },
  {
   "cell_type": "markdown",
   "metadata": {},
   "source": [
    "Let's take a look at the outcome:"
   ]
  },
  {
   "cell_type": "code",
   "execution_count": 360,
   "metadata": {},
   "outputs": [
    {
     "name": "stdout",
     "output_type": "stream",
     "text": [
      "High    3146\n",
      "Low     3140\n",
      "Name: SCORE_LEVEL, dtype: int64\n",
      "AxesSubplot(0.125,0.125;0.775x0.755)\n"
     ]
    },
    {
     "data": {
      "image/png": "[encoded data removed]",
      "text/plain": [
       "<Figure size 720x576 with 1 Axes>"
      ]
     },
     "metadata": {
      "needs_background": "light"
     },
     "output_type": "display_data"
    }
   ],
   "source": [
    "print(data['SCORE_LEVEL'].value_counts())\n",
    "plt.figure(figsize=(10,8))\n",
    "print(sns.countplot(x='SCORE_LEVEL',data=data, \n",
    "                    order = data['SCORE_LEVEL'].value_counts().index))"
   ]
  },
  {
   "cell_type": "markdown",
   "metadata": {},
   "source": [
    "The outcome ('SCORE_LEVEL' column) values have almost the same amount of values, so we don't need to do anything with this sample (like oversampling or undersampling) and just continue with analysis. \n",
    "Let's encode categorical variables using LabelEncoder:"
   ]
  },
  {
   "cell_type": "code",
   "execution_count": 361,
   "metadata": {},
   "outputs": [
    {
     "data": {
      "text/html": [
       "<div>\n",
       "<style scoped>\n",
       "    .dataframe tbody tr th:only-of-type {\n",
       "        vertical-align: middle;\n",
       "    }\n",
       "\n",
       "    .dataframe tbody tr th {\n",
       "        vertical-align: top;\n",
       "    }\n",
       "\n",
       "    .dataframe thead th {\n",
       "        text-align: right;\n",
       "    }\n",
       "</style>\n",
       "<table border=\"1\" class=\"dataframe\">\n",
       "  <thead>\n",
       "    <tr style=\"text-align: right;\">\n",
       "      <th></th>\n",
       "      <th>GEMEENTENUMMER</th>\n",
       "      <th>SOORT_PO</th>\n",
       "      <th>DENOMINATIE_VESTIGING</th>\n",
       "      <th>AANTAL_LEERLINGEN_EXAMEN</th>\n",
       "      <th>EXAMEN</th>\n",
       "      <th>EXAMEN_AANTAL</th>\n",
       "      <th>REKENEN_LAGER1F</th>\n",
       "      <th>REKENEN_1F</th>\n",
       "      <th>REKENEN_1S</th>\n",
       "      <th>REKENEN_2F</th>\n",
       "      <th>...</th>\n",
       "      <th>VMBO</th>\n",
       "      <th>VMBO_HAVO</th>\n",
       "      <th>HAVO</th>\n",
       "      <th>HAVO_VWO</th>\n",
       "      <th>VWO</th>\n",
       "      <th>ADVIES_NIET_MOGELIJK</th>\n",
       "      <th>TOTAAL_ADVIES</th>\n",
       "      <th>LJ8</th>\n",
       "      <th>ZIT</th>\n",
       "      <th>SCORE_LEVEL</th>\n",
       "    </tr>\n",
       "  </thead>\n",
       "  <tbody>\n",
       "    <tr>\n",
       "      <th>18739</th>\n",
       "      <td>637</td>\n",
       "      <td>0</td>\n",
       "      <td>4</td>\n",
       "      <td>11</td>\n",
       "      <td>1</td>\n",
       "      <td>11</td>\n",
       "      <td>1</td>\n",
       "      <td>5</td>\n",
       "      <td>5</td>\n",
       "      <td>0</td>\n",
       "      <td>...</td>\n",
       "      <td>0</td>\n",
       "      <td>2</td>\n",
       "      <td>4</td>\n",
       "      <td>0</td>\n",
       "      <td>3</td>\n",
       "      <td>0</td>\n",
       "      <td>11</td>\n",
       "      <td>11</td>\n",
       "      <td>1</td>\n",
       "      <td>0</td>\n",
       "    </tr>\n",
       "    <tr>\n",
       "      <th>18740</th>\n",
       "      <td>1641</td>\n",
       "      <td>0</td>\n",
       "      <td>12</td>\n",
       "      <td>17</td>\n",
       "      <td>1</td>\n",
       "      <td>17</td>\n",
       "      <td>0</td>\n",
       "      <td>5</td>\n",
       "      <td>12</td>\n",
       "      <td>0</td>\n",
       "      <td>...</td>\n",
       "      <td>1</td>\n",
       "      <td>0</td>\n",
       "      <td>4</td>\n",
       "      <td>0</td>\n",
       "      <td>9</td>\n",
       "      <td>0</td>\n",
       "      <td>17</td>\n",
       "      <td>17</td>\n",
       "      <td>1</td>\n",
       "      <td>0</td>\n",
       "    </tr>\n",
       "    <tr>\n",
       "      <th>18741</th>\n",
       "      <td>1930</td>\n",
       "      <td>0</td>\n",
       "      <td>4</td>\n",
       "      <td>11</td>\n",
       "      <td>1</td>\n",
       "      <td>11</td>\n",
       "      <td>1</td>\n",
       "      <td>5</td>\n",
       "      <td>5</td>\n",
       "      <td>0</td>\n",
       "      <td>...</td>\n",
       "      <td>0</td>\n",
       "      <td>3</td>\n",
       "      <td>1</td>\n",
       "      <td>3</td>\n",
       "      <td>2</td>\n",
       "      <td>0</td>\n",
       "      <td>12</td>\n",
       "      <td>12</td>\n",
       "      <td>1</td>\n",
       "      <td>1</td>\n",
       "    </tr>\n",
       "    <tr>\n",
       "      <th>18742</th>\n",
       "      <td>1927</td>\n",
       "      <td>0</td>\n",
       "      <td>9</td>\n",
       "      <td>12</td>\n",
       "      <td>3</td>\n",
       "      <td>12</td>\n",
       "      <td>2</td>\n",
       "      <td>3</td>\n",
       "      <td>7</td>\n",
       "      <td>0</td>\n",
       "      <td>...</td>\n",
       "      <td>1</td>\n",
       "      <td>5</td>\n",
       "      <td>3</td>\n",
       "      <td>0</td>\n",
       "      <td>3</td>\n",
       "      <td>0</td>\n",
       "      <td>15</td>\n",
       "      <td>14</td>\n",
       "      <td>2</td>\n",
       "      <td>0</td>\n",
       "    </tr>\n",
       "    <tr>\n",
       "      <th>18743</th>\n",
       "      <td>1895</td>\n",
       "      <td>0</td>\n",
       "      <td>9</td>\n",
       "      <td>21</td>\n",
       "      <td>1</td>\n",
       "      <td>21</td>\n",
       "      <td>1</td>\n",
       "      <td>14</td>\n",
       "      <td>6</td>\n",
       "      <td>0</td>\n",
       "      <td>...</td>\n",
       "      <td>5</td>\n",
       "      <td>2</td>\n",
       "      <td>4</td>\n",
       "      <td>1</td>\n",
       "      <td>2</td>\n",
       "      <td>0</td>\n",
       "      <td>21</td>\n",
       "      <td>11</td>\n",
       "      <td>1</td>\n",
       "      <td>1</td>\n",
       "    </tr>\n",
       "  </tbody>\n",
       "</table>\n",
       "<p>5 rows × 28 columns</p>\n",
       "</div>"
      ],
      "text/plain": [
       "       GEMEENTENUMMER  SOORT_PO  DENOMINATIE_VESTIGING  \\\n",
       "18739             637         0                      4   \n",
       "18740            1641         0                     12   \n",
       "18741            1930         0                      4   \n",
       "18742            1927         0                      9   \n",
       "18743            1895         0                      9   \n",
       "\n",
       "       AANTAL_LEERLINGEN_EXAMEN  EXAMEN  EXAMEN_AANTAL  REKENEN_LAGER1F  \\\n",
       "18739                        11       1             11                1   \n",
       "18740                        17       1             17                0   \n",
       "18741                        11       1             11                1   \n",
       "18742                        12       3             12                2   \n",
       "18743                        21       1             21                1   \n",
       "\n",
       "       REKENEN_1F  REKENEN_1S  REKENEN_2F  ...  VMBO  VMBO_HAVO  HAVO  \\\n",
       "18739           5           5           0  ...     0          2     4   \n",
       "18740           5          12           0  ...     1          0     4   \n",
       "18741           5           5           0  ...     0          3     1   \n",
       "18742           3           7           0  ...     1          5     3   \n",
       "18743          14           6           0  ...     5          2     4   \n",
       "\n",
       "       HAVO_VWO  VWO  ADVIES_NIET_MOGELIJK  TOTAAL_ADVIES  LJ8  ZIT  \\\n",
       "18739         0    3                     0             11   11    1   \n",
       "18740         0    9                     0             17   17    1   \n",
       "18741         3    2                     0             12   12    1   \n",
       "18742         0    3                     0             15   14    2   \n",
       "18743         1    2                     0             21   11    1   \n",
       "\n",
       "       SCORE_LEVEL  \n",
       "18739            0  \n",
       "18740            0  \n",
       "18741            1  \n",
       "18742            0  \n",
       "18743            1  \n",
       "\n",
       "[5 rows x 28 columns]"
      ]
     },
     "execution_count": 361,
     "metadata": {},
     "output_type": "execute_result"
    }
   ],
   "source": [
    "from sklearn.preprocessing import LabelEncoder\n",
    "\n",
    "data['SOORT_PO'] = LabelEncoder().fit_transform(data['SOORT_PO'])\n",
    "\n",
    "data['DENOMINATIE_VESTIGING'] = LabelEncoder().fit_transform(data['DENOMINATIE_VESTIGING'])\n",
    "\n",
    "data['EXAMEN'] = LabelEncoder().fit_transform(data['EXAMEN'])\n",
    "\n",
    "data['SCORE_LEVEL'] = LabelEncoder().fit_transform(data['SCORE_LEVEL'])\n",
    "data.head()"
   ]
  },
  {
   "cell_type": "markdown",
   "metadata": {},
   "source": [
    "Now we can start modelling, but first we need to split data on train and test data:"
   ]
  },
  {
   "cell_type": "code",
   "execution_count": 362,
   "metadata": {},
   "outputs": [],
   "source": [
    "from sklearn.model_selection import train_test_split, cross_val_score\n",
    "from sklearn.svm import SVC\n",
    "from sklearn.ensemble import RandomForestClassifier\n",
    "from sklearn.neighbors import KNeighborsClassifier\n",
    "from sklearn.naive_bayes import GaussianNB\n",
    "from xgboost import XGBClassifier\n",
    "from sklearn.preprocessing import LabelEncoder, MinMaxScaler\n",
    "from sklearn.metrics import roc_curve\n",
    "\n",
    "def split_data(data):\n",
    "    pred = data['SCORE_LEVEL']\n",
    "    data.drop('SCORE_LEVEL', 1, inplace = True)\n",
    "    \n",
    "    random_state = 4004\n",
    "    \n",
    "    #scaler = MinMaxScaler()\n",
    "    #data = scaler.fit_transform(data)\n",
    "    X_train, X_test, y_train, y_test = train_test_split(data, pred, train_size=0.7, test_size=0.3, random_state=random_state)\n",
    "    X_train.head()\n",
    "    return X_train, X_test, y_train, y_test\n",
    "X_train, X_test, y_train, y_test = split_data(data)"
   ]
  },
  {
   "cell_type": "markdown",
   "metadata": {},
   "source": [
    "## Building models\n",
    "\n",
    "Let' start modelling. I will built classification model using a several ML algorithms: Random forest, K Nearest Neighbors, Support Vector Machine and XGBoost. "
   ]
  },
  {
   "cell_type": "markdown",
   "metadata": {},
   "source": [
    "### Random forest"
   ]
  },
  {
   "cell_type": "code",
   "execution_count": 363,
   "metadata": {},
   "outputs": [],
   "source": [
    "def random_forest(X_train, X_test, y_train, y_test):\n",
    "    rfc = RandomForestClassifier(n_estimators=100, random_state = random_state)\n",
    "    rfc.fit(X_train, y_train)\n",
    "    pred_test = rfc.predict(X_test)\n",
    " \n",
    "    rfc_score = 100 * rfc.score(X_test, y_test)\n",
    "    print(\"Accuracy is: %3.2f\" % (rfc_score))\n",
    "    \n",
    "    rfc_disp = plot_roc_curve(rfc, X_test, y_test)\n",
    "    return rfc, rfc_score, rfc_disp"
   ]
  },
  {
   "cell_type": "code",
   "execution_count": 364,
   "metadata": {},
   "outputs": [
    {
     "name": "stdout",
     "output_type": "stream",
     "text": [
      "Random Forest\n",
      "Random Forest's accuracy is: 88.92\n",
      "Random Forest's kappa is: 0.78\n"
     ]
    },
    {
     "data": {
      "image/png": "[encoded data removed]",
      "text/plain": [
       "<Figure size 432x288 with 1 Axes>"
      ]
     },
     "metadata": {
      "needs_background": "light"
     },
     "output_type": "display_data"
    }
   ],
   "source": [
    "print(\"Random Forest\")\n",
    "rfc, rfc_score, rfc_disp = random_forest(X_train, X_test, y_train, y_test)"
   ]
  },
  {
   "cell_type": "code",
   "execution_count": 365,
   "metadata": {},
   "outputs": [],
   "source": [
    "### K Nearest Neighbors "
   ]
  },
  {
   "cell_type": "code",
   "execution_count": 366,
   "metadata": {},
   "outputs": [],
   "source": [
    "def knn(X_train, X_test, y_train, y_test):\n",
    "    knn = KNeighborsClassifier()\n",
    "    knn.fit(X_train, y_train)\n",
    "    preds = knn.predict(X_test)\n",
    "    pred_test = knn.predict(X_test)\n",
    "    knn_score = 100 * knn.score(X_test, y_test)\n",
    "    print(\"Accuracy is: %3.2f\" % (knn_score))\n",
    "    knn_disp = plot_roc_curve(knn, X_test, y_test)\n",
    "    return knn, knn_score, knn_disp"
   ]
  },
  {
   "cell_type": "code",
   "execution_count": 367,
   "metadata": {},
   "outputs": [
    {
     "name": "stdout",
     "output_type": "stream",
     "text": [
      "KNN\n",
      "KNN's accuracy is: 72.80\n"
     ]
    },
    {
     "data": {
      "image/png": "[encoded data removed]",
      "text/plain": [
       "<Figure size 432x288 with 1 Axes>"
      ]
     },
     "metadata": {
      "needs_background": "light"
     },
     "output_type": "display_data"
    }
   ],
   "source": [
    "print(\"KNN\")\n",
    "knn, knn_score, knn_disp = knn(X_train, X_test, y_train, y_test)"
   ]
  },
  {
   "cell_type": "markdown",
   "metadata": {},
   "source": [
    "### Support Vector Machine"
   ]
  },
  {
   "cell_type": "code",
   "execution_count": 368,
   "metadata": {},
   "outputs": [],
   "source": [
    "def svc(X_train, X_test, y_train, y_test):\n",
    "    svc = SVC()\n",
    "    svc.fit(X_train, y_train)\n",
    "    pred_test = svc.predict(X_test)\n",
    "    svc_score = 100 * svc.score(X_test, y_test)\n",
    "    print(\"Accuracy is: %3.2f\" % (svc_score))\n",
    "    svc_disp = plot_roc_curve(svc, X_test, y_test)\n",
    "    return svc, svc_score, svc_disp"
   ]
  },
  {
   "cell_type": "code",
   "execution_count": 369,
   "metadata": {},
   "outputs": [
    {
     "name": "stdout",
     "output_type": "stream",
     "text": [
      "Support Vector Machine\n",
      "SVC's accuracy is: 63.73\n"
     ]
    },
    {
     "data": {
      "image/png": "[encoded data removed]",
      "text/plain": [
       "<Figure size 432x288 with 1 Axes>"
      ]
     },
     "metadata": {
      "needs_background": "light"
     },
     "output_type": "display_data"
    }
   ],
   "source": [
    "print(\"Support Vector Machine\")\n",
    "svc, svc_score, svc_disp = svc(X_train, X_test, y_train, y_test)"
   ]
  },
  {
   "cell_type": "code",
   "execution_count": 370,
   "metadata": {},
   "outputs": [],
   "source": [
    "### XGBoost"
   ]
  },
  {
   "cell_type": "code",
   "execution_count": 371,
   "metadata": {},
   "outputs": [],
   "source": [
    "def XGBoost(X_train, X_test, y_train, y_test):\n",
    "    xgb = XGBClassifier(n_estimators=100)\n",
    "    xgb.fit(X_train, y_train)\n",
    "    pred_test = xgb.predict(X_test)\n",
    "    xgb_score = (pred_test == y_test).sum() / len(pred_test)*100\n",
    "    print(\"XGBoost's prediction accuracy is: %3.2f\" % (xgb_score))\n",
    "    xgb_disp = plot_roc_curve(xgb, X_test, y_test)\n",
    "    return xgb, xgb_score, xgb_disp"
   ]
  },
  {
   "cell_type": "code",
   "execution_count": 372,
   "metadata": {},
   "outputs": [
    {
     "name": "stdout",
     "output_type": "stream",
     "text": [
      "XGBoost\n",
      "XGBoost's prediction accuracy is: 89.66\n"
     ]
    },
    {
     "data": {
      "image/png": "[encoded data removed]",
      "text/plain": [
       "<Figure size 432x288 with 1 Axes>"
      ]
     },
     "metadata": {
      "needs_background": "light"
     },
     "output_type": "display_data"
    }
   ],
   "source": [
    "print(\"XGBoost\")\n",
    "xgb, xgb_score, xgb_disp = XGBoost(X_train, X_test, y_train, y_test)"
   ]
  },
  {
   "cell_type": "code",
   "execution_count": null,
   "metadata": {},
   "outputs": [],
   "source": []
  },
  {
   "cell_type": "code",
   "execution_count": 373,
   "metadata": {},
   "outputs": [
    {
     "data": {
      "text/html": [
       "<div>\n",
       "<style scoped>\n",
       "    .dataframe tbody tr th:only-of-type {\n",
       "        vertical-align: middle;\n",
       "    }\n",
       "\n",
       "    .dataframe tbody tr th {\n",
       "        vertical-align: top;\n",
       "    }\n",
       "\n",
       "    .dataframe thead th {\n",
       "        text-align: right;\n",
       "    }\n",
       "</style>\n",
       "<table border=\"1\" class=\"dataframe\">\n",
       "  <thead>\n",
       "    <tr style=\"text-align: right;\">\n",
       "      <th></th>\n",
       "      <th>Importance</th>\n",
       "    </tr>\n",
       "    <tr>\n",
       "      <th>Feature</th>\n",
       "      <th></th>\n",
       "    </tr>\n",
       "  </thead>\n",
       "  <tbody>\n",
       "    <tr>\n",
       "      <th>REKENEN_LAGER1F</th>\n",
       "      <td>0.199833</td>\n",
       "    </tr>\n",
       "    <tr>\n",
       "      <th>TV_2F</th>\n",
       "      <td>0.129287</td>\n",
       "    </tr>\n",
       "    <tr>\n",
       "      <th>LV_1F</th>\n",
       "      <td>0.094638</td>\n",
       "    </tr>\n",
       "    <tr>\n",
       "      <th>REKENEN_1S</th>\n",
       "      <td>0.069678</td>\n",
       "    </tr>\n",
       "    <tr>\n",
       "      <th>VWO</th>\n",
       "      <td>0.061491</td>\n",
       "    </tr>\n",
       "    <tr>\n",
       "      <th>LV_LAGER1F</th>\n",
       "      <td>0.053992</td>\n",
       "    </tr>\n",
       "    <tr>\n",
       "      <th>REKENEN_1F</th>\n",
       "      <td>0.046115</td>\n",
       "    </tr>\n",
       "    <tr>\n",
       "      <th>REKENEN_2F</th>\n",
       "      <td>0.043261</td>\n",
       "    </tr>\n",
       "    <tr>\n",
       "      <th>VMBO</th>\n",
       "      <td>0.041111</td>\n",
       "    </tr>\n",
       "    <tr>\n",
       "      <th>TV_1F</th>\n",
       "      <td>0.028416</td>\n",
       "    </tr>\n",
       "    <tr>\n",
       "      <th>EXAMEN</th>\n",
       "      <td>0.024508</td>\n",
       "    </tr>\n",
       "    <tr>\n",
       "      <th>LV_2F</th>\n",
       "      <td>0.022731</td>\n",
       "    </tr>\n",
       "    <tr>\n",
       "      <th>TV_LAGER1F</th>\n",
       "      <td>0.019309</td>\n",
       "    </tr>\n",
       "    <tr>\n",
       "      <th>AANTAL_LEERLINGEN_EXAMEN</th>\n",
       "      <td>0.018855</td>\n",
       "    </tr>\n",
       "    <tr>\n",
       "      <th>HAVO_VWO</th>\n",
       "      <td>0.016524</td>\n",
       "    </tr>\n",
       "    <tr>\n",
       "      <th>DENOMINATIE_VESTIGING</th>\n",
       "      <td>0.014594</td>\n",
       "    </tr>\n",
       "    <tr>\n",
       "      <th>GEMEENTENUMMER</th>\n",
       "      <td>0.014318</td>\n",
       "    </tr>\n",
       "    <tr>\n",
       "      <th>EXAMEN_AANTAL</th>\n",
       "      <td>0.014205</td>\n",
       "    </tr>\n",
       "    <tr>\n",
       "      <th>LJ8</th>\n",
       "      <td>0.013555</td>\n",
       "    </tr>\n",
       "    <tr>\n",
       "      <th>ADVIES_NIET_MOGELIJK</th>\n",
       "      <td>0.013413</td>\n",
       "    </tr>\n",
       "    <tr>\n",
       "      <th>TOTAAL_ADVIES</th>\n",
       "      <td>0.012820</td>\n",
       "    </tr>\n",
       "    <tr>\n",
       "      <th>VMBO_HAVO</th>\n",
       "      <td>0.012713</td>\n",
       "    </tr>\n",
       "    <tr>\n",
       "      <th>PRO</th>\n",
       "      <td>0.012142</td>\n",
       "    </tr>\n",
       "    <tr>\n",
       "      <th>ZIT</th>\n",
       "      <td>0.011891</td>\n",
       "    </tr>\n",
       "    <tr>\n",
       "      <th>HAVO</th>\n",
       "      <td>0.010598</td>\n",
       "    </tr>\n",
       "    <tr>\n",
       "      <th>VSO</th>\n",
       "      <td>0.000000</td>\n",
       "    </tr>\n",
       "    <tr>\n",
       "      <th>SOORT_PO</th>\n",
       "      <td>0.000000</td>\n",
       "    </tr>\n",
       "  </tbody>\n",
       "</table>\n",
       "</div>"
      ],
      "text/plain": [
       "                          Importance\n",
       "Feature                             \n",
       "REKENEN_LAGER1F             0.199833\n",
       "TV_2F                       0.129287\n",
       "LV_1F                       0.094638\n",
       "REKENEN_1S                  0.069678\n",
       "VWO                         0.061491\n",
       "LV_LAGER1F                  0.053992\n",
       "REKENEN_1F                  0.046115\n",
       "REKENEN_2F                  0.043261\n",
       "VMBO                        0.041111\n",
       "TV_1F                       0.028416\n",
       "EXAMEN                      0.024508\n",
       "LV_2F                       0.022731\n",
       "TV_LAGER1F                  0.019309\n",
       "AANTAL_LEERLINGEN_EXAMEN    0.018855\n",
       "HAVO_VWO                    0.016524\n",
       "DENOMINATIE_VESTIGING       0.014594\n",
       "GEMEENTENUMMER              0.014318\n",
       "EXAMEN_AANTAL               0.014205\n",
       "LJ8                         0.013555\n",
       "ADVIES_NIET_MOGELIJK        0.013413\n",
       "TOTAAL_ADVIES               0.012820\n",
       "VMBO_HAVO                   0.012713\n",
       "PRO                         0.012142\n",
       "ZIT                         0.011891\n",
       "HAVO                        0.010598\n",
       "VSO                         0.000000\n",
       "SOORT_PO                    0.000000"
      ]
     },
     "execution_count": 373,
     "metadata": {},
     "output_type": "execute_result"
    }
   ],
   "source": [
    "importances_sm = pd.DataFrame({\n",
    "    'Feature': data.columns,\n",
    "    'Importance': xgb.feature_importances_\n",
    "}).sort_values(by='Importance', ascending=False).set_index('Feature')\n",
    "importances_sm"
   ]
  },
  {
   "cell_type": "code",
   "execution_count": 374,
   "metadata": {},
   "outputs": [
    {
     "data": {
      "image/png": "[encoded data removed]",
      "text/plain": [
       "<Figure size 432x288 with 1 Axes>"
      ]
     },
     "metadata": {
      "needs_background": "light"
     },
     "output_type": "display_data"
    }
   ],
   "source": [
    "#smaller roc plot\n",
    "ax = plt.gca()\n",
    "rfc_disp.plot(ax=ax, alpha=0.8)# = plot_roc_curve(rfc, X_test, y_test, ax=ax, alpha=0.8)\n",
    "knn_disp.plot(ax=ax, alpha=0.8)\n",
    "svc_disp.plot(ax=ax, alpha=0.8)\n",
    "xgb_disp.plot(ax=ax, alpha=0.8)\n",
    "plt.show()"
   ]
  },
  {
   "cell_type": "code",
   "execution_count": null,
   "metadata": {},
   "outputs": [],
   "source": []
  }
 ],
 "metadata": {
  "kernelspec": {
   "display_name": "Python 3",
   "language": "python",
   "name": "python3"
  },
  "language_info": {
   "codemirror_mode": {
    "name": "ipython",
    "version": 3
   },
   "file_extension": ".py",
   "mimetype": "text/x-python",
   "name": "python",
   "nbconvert_exporter": "python",
   "pygments_lexer": "ipython3",
   "version": "3.8.5"
  }
 },
 "nbformat": 4,
 "nbformat_minor": 4
}
